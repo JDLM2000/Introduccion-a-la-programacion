{
 "cells": [
  {
   "cell_type": "markdown",
   "metadata": {},
   "source": [
    "# Actividad 1"
   ]
  },
  {
   "cell_type": "code",
   "execution_count": null,
   "metadata": {},
   "outputs": [],
   "source": []
  },
  {
   "cell_type": "markdown",
   "metadata": {},
   "source": [
    "A continuación usted va a encontrar unos ejercicios para resolver y mostrar su aprendizaje"
   ]
  },
  {
   "cell_type": "markdown",
   "metadata": {},
   "source": [
    "* Escriba un programa que escriba en pantalla <span style=\"color:red\">\"Python es muy divertido\"</span>"
   ]
  },
  {
   "cell_type": "code",
   "execution_count": null,
   "metadata": {},
   "outputs": [],
   "source": []
  },
  {
   "cell_type": "markdown",
   "metadata": {},
   "source": [
    "* Llene los espacios de tal forma que el código imprima en pantalla <span style=\"color:orange\">\"El color del amanecer es anaranjado\"</span>"
   ]
  },
  {
   "cell_type": "code",
   "execution_count": 4,
   "metadata": {},
   "outputs": [
    {
     "name": "stdout",
     "output_type": "stream",
     "text": [
      "El color del amanecer es anaranjado\n"
     ]
    }
   ],
   "source": [
    "color = ______\n",
    "cosa = ______\n",
    "\n",
    "print(\"El color del \" + cosa + \" es \" + color)"
   ]
  },
  {
   "cell_type": "markdown",
   "metadata": {},
   "source": [
    "* Si hay 86400 segundos en un dia, ¿cuantos segundos hay en una semana?. Escriba un programa que haga este cálculo."
   ]
  },
  {
   "cell_type": "code",
   "execution_count": null,
   "metadata": {},
   "outputs": [],
   "source": []
  },
  {
   "cell_type": "markdown",
   "metadata": {},
   "source": [
    "* Escriba un programa que use la función <b>input</b> para pedirle al usuario el nombre y saludarle. Note que en la ejecución \n",
    "saldrá un cuadro, para probar el código escriba un nombre en ese cuadro. Se espera que el código arroje por ejemplo: <span style=\"color:red\">\"Hola Diego\"</span>"
   ]
  },
  {
   "cell_type": "code",
   "execution_count": 6,
   "metadata": {},
   "outputs": [
    {
     "name": "stdout",
     "output_type": "stream",
     "text": [
      "Ingresa tu nombre Diego\n",
      "Howdy\n"
     ]
    }
   ],
   "source": [
    "nombre = input(\"Ingresa tu nombre \")\n",
    "print(\"Howdy\")"
   ]
  },
  {
   "cell_type": "markdown",
   "metadata": {},
   "source": [
    "* Escriba un programa que use la función <b>input</b> para pedirle al usuario dos cosas. \n",
    "1\\. ¿Cuántas horas trabajó esta semana?\n",
    "2\\. ¿Cuanto gana por hora?\n",
    "Con base en esa información, usted va a calular cuanto ganó el usuario esta semana. Por ejemplo: yo trabajé 35 horas y gano 2.75 US por hora por tanto la paga fue de 96.25. En últimas el código debería dar como resultado <span style=\"color:red\">\"Su paga fue de 96.25\"</span>\n",
    "Debe tener en cuenta que todo lo que lee la función <b>input</b> es considerado como <b>string</b> por lo que si usted no cambia el tipo de la varible puede dar errores como \"2\" + \"2\" = \"22\" o \"3\" * 3 = \"333\", por lo que es recomendable que utilize la función <b>float</b> para poder tener el resultado deseado."
   ]
  },
  {
   "cell_type": "code",
   "execution_count": 10,
   "metadata": {},
   "outputs": [
    {
     "name": "stdout",
     "output_type": "stream",
     "text": [
      "Ingrese las horas laboradas:\n"
     ]
    }
   ],
   "source": [
    "hrs = input(\"Ingrese las horas laboradas:\")\n"
   ]
  },
  {
   "cell_type": "markdown",
   "metadata": {},
   "source": [
    "* A continuación usted va a encontrar una serie de pequeños ejercicios de manipulación de cadenas, por favor, busque si hay un método que haga la tarea, la idea es que usted aprenda a buscar lo que se necesita."
   ]
  },
  {
   "cell_type": "code",
   "execution_count": 11,
   "metadata": {},
   "outputs": [],
   "source": [
    "### Ejercicios string manipulation\n",
    "\n",
    "a = \"Quiero que todo este texto esté en mayúsculas\"\n",
    "### convertir la anterior cadena en mayúsculas\n",
    "\n",
    "b = \"      Este frase tiene espacios al inicio y al final      \"\n",
    "### quitar los espacios que hay al principio y al final de la frase\n",
    "\n",
    "\n",
    "c= \"quiero una lista con cada palabra en esta frase\"\n",
    "#### crear una lista cuyos elementos sean las palabras de la frase\n",
    "\n",
    "\n",
    "d = [\"Quiero\", \"crear\", \"una\", \"frase\", \"que\", \"contenga\", \"todas\", \"las\", \"palabras\", \"de\", \"esta\", \"lista\"]\n",
    "### unir las palabras de la lista anterior en una frase\n",
    "\n",
    "nombre = \"Juan\"\n",
    "edad = \"19\"\n",
    "e = \"Hola, mi nombre es {} y tengo {} años\"\n",
    "### Escribe una frase que diga \"Hola, mi nombre es Juan y tengo 19 años\""
   ]
  },
  {
   "cell_type": "code",
   "execution_count": null,
   "metadata": {},
   "outputs": [],
   "source": []
  }
 ],
 "metadata": {
  "kernelspec": {
   "display_name": "Python 3",
   "language": "python",
   "name": "python3"
  },
  "language_info": {
   "codemirror_mode": {
    "name": "ipython",
    "version": 3
   },
   "file_extension": ".py",
   "mimetype": "text/x-python",
   "name": "python",
   "nbconvert_exporter": "python",
   "pygments_lexer": "ipython3",
   "version": "3.8.3"
  },
  "widgets": {
   "application/vnd.jupyter.widget-state+json": {
    "state": {},
    "version_major": 2,
    "version_minor": 0
   }
  }
 },
 "nbformat": 4,
 "nbformat_minor": 4
}
