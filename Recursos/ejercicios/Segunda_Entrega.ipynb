{
 "cells": [
  {
   "cell_type": "markdown",
   "metadata": {},
   "source": [
    "# Actividad Segunda Entrega"
   ]
  },
  {
   "cell_type": "markdown",
   "metadata": {},
   "source": [
    "En esta segunda entrega vamos a realizar ejercicios sobre condicionales, bucles y colecciones.\n"
   ]
  },
  {
   "cell_type": "markdown",
   "metadata": {},
   "source": [
    "1. Escriba el código para determinar cuántos 9 hay en la lista de números y asigne ese valor a la variable **cuantos**. No use un bucle for para hacer esto.\n"
   ]
  },
  {
   "cell_type": "code",
   "execution_count": 1,
   "metadata": {},
   "outputs": [],
   "source": [
    "nums = [4, 2, 23.4, 9, 545, 9, 1, 234.001, 5, 49, 8, 9 , 34, 52, 1, -2, 9.1, 4]"
   ]
  },
  {
   "cell_type": "markdown",
   "metadata": {},
   "source": [
    "2. Escriba el código que utiliza el **rebanado(slicing)** para deshacerse del **segundo 8**, de modo que aquí sólo hay dos 8 en la lista ligados a las variable **nums**."
   ]
  },
  {
   "cell_type": "code",
   "execution_count": null,
   "metadata": {},
   "outputs": [],
   "source": [
    "nums = [4, 2, 8, 23.4, 8, 9, 545, 9, 1, 234.001, 5, 49, 8, 9 , 34, 52, 1, -2, 9.1, 4]\n"
   ]
  },
  {
   "cell_type": "markdown",
   "metadata": {},
   "source": [
    "3. A mitad de camino durante las Olimpiadas de Río, los **Estados Unidos** tenían **70** medallas, **Gran Bretaña** **38** medallas, **China** **45** medallas, **Rusia 30** medallas y **Alemania 17** medallas. Crear un diccionario asignado a la variable **medallas_pais** con los nombres de los países como claves y el número de medallas que el país tenía como valor de cada clave."
   ]
  },
  {
   "cell_type": "code",
   "execution_count": null,
   "metadata": {},
   "outputs": [],
   "source": []
  },
  {
   "cell_type": "markdown",
   "metadata": {},
   "source": [
    "4. Dado el diccionario de **nadadores**, añada un par clave-valor adicional al diccionario con \"Phelps\" como clave y el número entero 23 como valor. No reescriba todo el diccionario."
   ]
  },
  {
   "cell_type": "code",
   "execution_count": null,
   "metadata": {},
   "outputs": [],
   "source": [
    "nadadores = {'Manuel':4, 'Lochte':12, 'Adrian':7, 'Ledecky':5, 'Dirado':4}"
   ]
  },
  {
   "cell_type": "markdown",
   "metadata": {},
   "source": [
    "5. El diccionario de **oros** contiene información sobre cuántas medallas de oro ganó cada país en las Olimpiadas de 2016. Pero, España ganó 2 medallas de oro más de lo que aparece. Actualiza **oros** para reflejar esta información."
   ]
  },
  {
   "cell_type": "code",
   "execution_count": null,
   "metadata": {},
   "outputs": [],
   "source": [
    "oros = {\"Italia\": 12, \"USA\": 33, \"Brasil\": 15, \"China\": 27, \"España\": 19, \"Canada\": 22, \"Argentina\": 8, \"Inglaterra\": 29}\n"
   ]
  },
  {
   "cell_type": "markdown",
   "metadata": {},
   "source": [
    "6. Escribir un programa para pedir al usuario **horas** y **tarifa por hora** usando **input()** para calcular la **paga bruta**. Pague la **tarifa por hora dada** para las horas **hasta 40** y **1.5 veces** la tarifa por hora para todas **las horas trabajadas por encima de 40 horas**. Use 45 horas y una tarifa de 10.50 por hora para probar el programa (la paga debe ser de 498.75). Debe usar **input()** para leer una **string** y **float()** para convertir la cadena en un número. No se preocupe por comprobar el error de la entrada del usuario - asuma que el usuario teclea los números correctamente.\n",
    "\n"
   ]
  },
  {
   "cell_type": "code",
   "execution_count": null,
   "metadata": {},
   "outputs": [],
   "source": [
    "hrs = input(\"Ingrese las horas trabajadas:\")\n",
    "h = float(hrs)"
   ]
  },
  {
   "cell_type": "markdown",
   "metadata": {},
   "source": [
    "7. Escriba un programa para pedir una puntuación entre 0.0 y 1.0. Si la puntuación está fuera de rango, imprime un error. Si la puntuación está entre 0.0 y 1.0, imprima una calificación usando la siguiente tabla:\n"
   ]
  },
  {
   "cell_type": "markdown",
   "metadata": {},
   "source": [
    "| Puntuación | Nota |\n",
    "| --- | --- |\n",
    "|>= 0.9|E|\n",
    "|>= 0.8|S|\n",
    "|>= 0.7|A|\n",
    "|>= 0.6|I|\n",
    "|< 0.6|D|\n",
    "\n",
    "Si el usuario introduce un valor fuera de rango, imprima un mensaje de error adecuado y salga del programa."
   ]
  },
  {
   "cell_type": "code",
   "execution_count": null,
   "metadata": {},
   "outputs": [],
   "source": [
    "puntaje = input(\"Ingrese un puntaje: \")"
   ]
  },
  {
   "cell_type": "markdown",
   "metadata": {},
   "source": [
    "8. Escriba un bucle **for** para imprimir cada carácter de la cadena mi_str en una línea separada."
   ]
  },
  {
   "cell_type": "code",
   "execution_count": null,
   "metadata": {},
   "outputs": [],
   "source": [
    "mi_str = 'Corporación Unificada Nacional de Educación Superior'"
   ]
  },
  {
   "cell_type": "markdown",
   "metadata": {},
   "source": [
    "9. Escriba un bucle **for** para imprimir cada elemento de la lista **varias_cosas**. Luego, escribe otro bulce **for** para imprimir el TYPE de cada elemento de la lista varias_cosas. Para completar este problema deberías haber escrito dos diferentes bucles **for**, cada uno de los cuales itera sobre la lista varias_cosas, pero cada uno de esos 2 para bucles debería tener un resultado diferente"
   ]
  },
  {
   "cell_type": "code",
   "execution_count": null,
   "metadata": {},
   "outputs": [],
   "source": [
    "varias_cosas = [\"hola\", 2, 4, 6.0, 7.5, 234352354, \"el fin\", \"\", 99]\n"
   ]
  },
  {
   "cell_type": "markdown",
   "metadata": {},
   "source": [
    "10. Escriba código que utilice un bucle **for** para imprimir la longitud de cada elemento almacenado en la lista str_list."
   ]
  },
  {
   "cell_type": "code",
   "execution_count": null,
   "metadata": {},
   "outputs": [],
   "source": [
    "str_list = [\"Hola\", \"\", \"Adiós\", \"Maravilloso\", \"Adoro Python\"]\n"
   ]
  },
  {
   "cell_type": "markdown",
   "metadata": {},
   "source": [
    "11. Escriba el código para contar el número de caracteres en original_str usando el patrón de acumulación y asigne la respuesta a una variable num_chars. NO use la función len para resolver el problema (si la usa mientras trabaja en este problema, ¡comentela después!)"
   ]
  },
  {
   "cell_type": "code",
   "execution_count": null,
   "metadata": {},
   "outputs": [],
   "source": [
    "original_str = \"El rápido rinoceronte marrón saltó sobre el zorro extremadamente perezoso\""
   ]
  },
  {
   "cell_type": "markdown",
   "metadata": {},
   "source": [
    "12. adicion_str es una cadena con una lista de números separados por el signo **+**. Escriba el código que utiliza el patrón de acumulación para tomar la suma de todos los números y asignarla a **sum_val (un entero)**. (Debe el método **.split(\"+\")** para separar por \"+\" e **int()** para cambiar de str a  int)."
   ]
  },
  {
   "cell_type": "code",
   "execution_count": null,
   "metadata": {},
   "outputs": [],
   "source": [
    "adicion_str = \"2+5+10+20\"\n"
   ]
  },
  {
   "cell_type": "markdown",
   "metadata": {},
   "source": [
    "13. temps_semana_f es una cadena con una lista de temperaturas en grados Fahrenheit separadas por el signo ','. Escriba el código que utiliza el patrón de acumulación para calcular el promedio (suma dividida por el número de elementos) y lo asigna a temp_promedio. No haga hard coding pd: buscar qué significa este término (es decir, haga que su código calcule tanto la suma como el número de elementos en week_temps_f) (Debe usar la función **.split(\",\")** para dividir la cadena por \",\" y **float()** para cambiar de str a float).\n",
    "\n"
   ]
  },
  {
   "cell_type": "code",
   "execution_count": null,
   "metadata": {},
   "outputs": [],
   "source": [
    "temps_semana_f = \"75.1,77.7,83.2,82.5,81.0,79.5,85.7\""
   ]
  },
  {
   "cell_type": "markdown",
   "metadata": {},
   "source": [
    "14. Escriba el código para crear una lista de números del 0 al 67 y asigne esa lista a la variable nums. Existe una función capaz de hacer esto, utilícela."
   ]
  },
  {
   "cell_type": "code",
   "execution_count": null,
   "metadata": {},
   "outputs": [],
   "source": []
  },
  {
   "cell_type": "markdown",
   "metadata": {},
   "source": [
    "15. La variable **frase** almacena una cadena. Escriba el código para determinar cuántas palabras de la oración empiezan y terminan con la misma letra, incluyendo las palabras de una letra. Almacena el resultado en la variable misma_letra.\n",
    "\n",
    "**¡importante!, el código me debería servir con cualquier frase, recordemos lo de hard coding.**"
   ]
  },
  {
   "cell_type": "code",
   "execution_count": null,
   "metadata": {},
   "outputs": [],
   "source": [
    "frase = \"los estudiantes acuden en masa al parque para una variedad de actividades al aire libre como trotar y hacer picnic\"\n"
   ]
  },
  {
   "cell_type": "markdown",
   "metadata": {},
   "source": [
    "16. Escriba el código para contar el número de cadenas en los elementos de la lista que tienen el carácter **w** en ella. Asigne ese número a la variable acc_num.\n",
    "\n",
    "PISTA 1: ¡Utilice el patrón de acumulación!\n",
    "\n",
    "PISTA 2: el operador **in** comprueba si una subcadena está presente en una cadena."
   ]
  },
  {
   "cell_type": "markdown",
   "metadata": {},
   "source": [
    "17. Escribir un programa que repetidamente le pide al usuario **números enteros** hasta que el usuario introduce \"hecho\". Una vez que se introduce \"hecho\", imprime el más grande y el más pequeño de los números. Si el usuario introduce cualquier otra cosa que no sea un número válido, atrápelo con un try/except y ponga un mensaje apropiado e ignore el número. Introduce 7, 2, bob, 10 y 4 y haz coincidir la salida con la de abajo.\n",
    "\n",
    "Entrada inválida, por favor ingrese un número entero.\n",
    "<br>\n",
    "El número máximo es 10\n",
    "<br>\n",
    "El número mínimo es 2\n",
    "\n"
   ]
  },
  {
   "cell_type": "code",
   "execution_count": null,
   "metadata": {},
   "outputs": [],
   "source": [
    "mayor = None\n",
    "menor = None\n",
    "while True:\n",
    "    num = input(\"Ingresa un número: \")\n",
    "    if num == \"hecho\" : break\n",
    "    print(num)\n",
    "\n",
    "print(\"Máximo\", mayor)"
   ]
  },
  {
   "cell_type": "markdown",
   "metadata": {},
   "source": [
    "18. Crear un diccionario llamado **conteo_letras** que contenga cada letra y el número de veces que ocurre en la **cadena1**.Las letras no deben ser contadas por separado como mayúsculas y minúsculas. En cambio, todas ellas deben contarse como minúsculas."
   ]
  },
  {
   "cell_type": "code",
   "execution_count": null,
   "metadata": {},
   "outputs": [],
   "source": [
    "cadena1 = 'No soy nada. Nunca seré nada. No puedo querer ser nada. Aparte de esto, tengo en mí todos los sueños del mundo.'"
   ]
  }
 ],
 "metadata": {
  "kernelspec": {
   "display_name": "Python 3",
   "language": "python",
   "name": "python3"
  },
  "language_info": {
   "codemirror_mode": {
    "name": "ipython",
    "version": 3
   },
   "file_extension": ".py",
   "mimetype": "text/x-python",
   "name": "python",
   "nbconvert_exporter": "python",
   "pygments_lexer": "ipython3",
   "version": "3.8.3"
  }
 },
 "nbformat": 4,
 "nbformat_minor": 4
}
